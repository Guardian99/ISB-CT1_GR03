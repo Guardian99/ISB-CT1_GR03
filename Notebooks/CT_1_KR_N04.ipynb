{
  "nbformat": 4,
  "nbformat_minor": 0,
  "metadata": {
    "colab": {
      "provenance": []
    },
    "kernelspec": {
      "name": "python3",
      "display_name": "Python 3"
    },
    "language_info": {
      "name": "python"
    }
  },
  "cells": [
    {
      "cell_type": "code",
      "source": [
        "# Install required libraries\n",
        "!pip install alibi-detect pandas pyarrow pyngrok ace_tools"
      ],
      "metadata": {
        "colab": {
          "base_uri": "https://localhost:8080/"
        },
        "id": "bqVFVdQ3hyz1",
        "outputId": "74f04456-6880-43b2-e1e3-2115f921bd86"
      },
      "execution_count": 5,
      "outputs": [
        {
          "output_type": "stream",
          "name": "stdout",
          "text": [
            "Requirement already satisfied: alibi-detect in /usr/local/lib/python3.10/dist-packages (0.12.0)\n",
            "Requirement already satisfied: pandas in /usr/local/lib/python3.10/dist-packages (2.2.2)\n",
            "Requirement already satisfied: pyarrow in /usr/local/lib/python3.10/dist-packages (17.0.0)\n",
            "Requirement already satisfied: pyngrok in /usr/local/lib/python3.10/dist-packages (7.2.1)\n",
            "Collecting ace_tools\n",
            "  Downloading ace_tools-0.0-py3-none-any.whl.metadata (300 bytes)\n",
            "Requirement already satisfied: matplotlib<4.0.0,>=3.0.0 in /usr/local/lib/python3.10/dist-packages (from alibi-detect) (3.8.0)\n",
            "Requirement already satisfied: numpy<2.0.0,>=1.16.2 in /usr/local/lib/python3.10/dist-packages (from alibi-detect) (1.26.4)\n",
            "Requirement already satisfied: Pillow<11.0.0,>=5.4.1 in /usr/local/lib/python3.10/dist-packages (from alibi-detect) (10.4.0)\n",
            "Requirement already satisfied: opencv-python<5.0.0,>=3.2.0 in /usr/local/lib/python3.10/dist-packages (from alibi-detect) (4.10.0.84)\n",
            "Requirement already satisfied: scipy<2.0.0,>=1.3.0 in /usr/local/lib/python3.10/dist-packages (from alibi-detect) (1.13.1)\n",
            "Requirement already satisfied: scikit-image<0.23,>=0.19 in /usr/local/lib/python3.10/dist-packages (from alibi-detect) (0.22.0)\n",
            "Requirement already satisfied: scikit-learn<2.0.0,>=0.20.2 in /usr/local/lib/python3.10/dist-packages (from alibi-detect) (1.5.2)\n",
            "Requirement already satisfied: transformers<5.0.0,>=4.0.0 in /usr/local/lib/python3.10/dist-packages (from alibi-detect) (4.46.2)\n",
            "Requirement already satisfied: dill<0.4.0,>=0.3.0 in /usr/local/lib/python3.10/dist-packages (from alibi-detect) (0.3.9)\n",
            "Requirement already satisfied: tqdm<5.0.0,>=4.28.1 in /usr/local/lib/python3.10/dist-packages (from alibi-detect) (4.66.6)\n",
            "Requirement already satisfied: requests<3.0.0,>=2.21.0 in /usr/local/lib/python3.10/dist-packages (from alibi-detect) (2.32.3)\n",
            "Requirement already satisfied: pydantic<3.0.0,>=1.8.0 in /usr/local/lib/python3.10/dist-packages (from alibi-detect) (2.9.2)\n",
            "Requirement already satisfied: toml<1.0.0,>=0.10.1 in /usr/local/lib/python3.10/dist-packages (from alibi-detect) (0.10.2)\n",
            "Requirement already satisfied: catalogue<3.0.0,>=2.0.0 in /usr/local/lib/python3.10/dist-packages (from alibi-detect) (2.0.10)\n",
            "Requirement already satisfied: numba!=0.54.0,<0.60.0,>=0.50.0 in /usr/local/lib/python3.10/dist-packages (from alibi-detect) (0.59.1)\n",
            "Requirement already satisfied: typing-extensions>=3.7.4.3 in /usr/local/lib/python3.10/dist-packages (from alibi-detect) (4.12.2)\n",
            "Requirement already satisfied: python-dateutil>=2.8.2 in /usr/local/lib/python3.10/dist-packages (from pandas) (2.8.2)\n",
            "Requirement already satisfied: pytz>=2020.1 in /usr/local/lib/python3.10/dist-packages (from pandas) (2024.2)\n",
            "Requirement already satisfied: tzdata>=2022.7 in /usr/local/lib/python3.10/dist-packages (from pandas) (2024.2)\n",
            "Requirement already satisfied: PyYAML>=5.1 in /usr/local/lib/python3.10/dist-packages (from pyngrok) (6.0.2)\n",
            "Requirement already satisfied: contourpy>=1.0.1 in /usr/local/lib/python3.10/dist-packages (from matplotlib<4.0.0,>=3.0.0->alibi-detect) (1.3.1)\n",
            "Requirement already satisfied: cycler>=0.10 in /usr/local/lib/python3.10/dist-packages (from matplotlib<4.0.0,>=3.0.0->alibi-detect) (0.12.1)\n",
            "Requirement already satisfied: fonttools>=4.22.0 in /usr/local/lib/python3.10/dist-packages (from matplotlib<4.0.0,>=3.0.0->alibi-detect) (4.55.0)\n",
            "Requirement already satisfied: kiwisolver>=1.0.1 in /usr/local/lib/python3.10/dist-packages (from matplotlib<4.0.0,>=3.0.0->alibi-detect) (1.4.7)\n",
            "Requirement already satisfied: packaging>=20.0 in /usr/local/lib/python3.10/dist-packages (from matplotlib<4.0.0,>=3.0.0->alibi-detect) (24.2)\n",
            "Requirement already satisfied: pyparsing>=2.3.1 in /usr/local/lib/python3.10/dist-packages (from matplotlib<4.0.0,>=3.0.0->alibi-detect) (3.2.0)\n",
            "Requirement already satisfied: llvmlite<0.43,>=0.42.0dev0 in /usr/local/lib/python3.10/dist-packages (from numba!=0.54.0,<0.60.0,>=0.50.0->alibi-detect) (0.42.0)\n",
            "Requirement already satisfied: annotated-types>=0.6.0 in /usr/local/lib/python3.10/dist-packages (from pydantic<3.0.0,>=1.8.0->alibi-detect) (0.7.0)\n",
            "Requirement already satisfied: pydantic-core==2.23.4 in /usr/local/lib/python3.10/dist-packages (from pydantic<3.0.0,>=1.8.0->alibi-detect) (2.23.4)\n",
            "Requirement already satisfied: six>=1.5 in /usr/local/lib/python3.10/dist-packages (from python-dateutil>=2.8.2->pandas) (1.16.0)\n",
            "Requirement already satisfied: charset-normalizer<4,>=2 in /usr/local/lib/python3.10/dist-packages (from requests<3.0.0,>=2.21.0->alibi-detect) (3.4.0)\n",
            "Requirement already satisfied: idna<4,>=2.5 in /usr/local/lib/python3.10/dist-packages (from requests<3.0.0,>=2.21.0->alibi-detect) (3.10)\n",
            "Requirement already satisfied: urllib3<3,>=1.21.1 in /usr/local/lib/python3.10/dist-packages (from requests<3.0.0,>=2.21.0->alibi-detect) (2.2.3)\n",
            "Requirement already satisfied: certifi>=2017.4.17 in /usr/local/lib/python3.10/dist-packages (from requests<3.0.0,>=2.21.0->alibi-detect) (2024.8.30)\n",
            "Requirement already satisfied: networkx>=2.8 in /usr/local/lib/python3.10/dist-packages (from scikit-image<0.23,>=0.19->alibi-detect) (3.4.2)\n",
            "Requirement already satisfied: imageio>=2.27 in /usr/local/lib/python3.10/dist-packages (from scikit-image<0.23,>=0.19->alibi-detect) (2.36.0)\n",
            "Requirement already satisfied: tifffile>=2022.8.12 in /usr/local/lib/python3.10/dist-packages (from scikit-image<0.23,>=0.19->alibi-detect) (2024.9.20)\n",
            "Requirement already satisfied: lazy_loader>=0.3 in /usr/local/lib/python3.10/dist-packages (from scikit-image<0.23,>=0.19->alibi-detect) (0.4)\n",
            "Requirement already satisfied: joblib>=1.2.0 in /usr/local/lib/python3.10/dist-packages (from scikit-learn<2.0.0,>=0.20.2->alibi-detect) (1.4.2)\n",
            "Requirement already satisfied: threadpoolctl>=3.1.0 in /usr/local/lib/python3.10/dist-packages (from scikit-learn<2.0.0,>=0.20.2->alibi-detect) (3.5.0)\n",
            "Requirement already satisfied: filelock in /usr/local/lib/python3.10/dist-packages (from transformers<5.0.0,>=4.0.0->alibi-detect) (3.16.1)\n",
            "Requirement already satisfied: huggingface-hub<1.0,>=0.23.2 in /usr/local/lib/python3.10/dist-packages (from transformers<5.0.0,>=4.0.0->alibi-detect) (0.26.2)\n",
            "Requirement already satisfied: regex!=2019.12.17 in /usr/local/lib/python3.10/dist-packages (from transformers<5.0.0,>=4.0.0->alibi-detect) (2024.9.11)\n",
            "Requirement already satisfied: safetensors>=0.4.1 in /usr/local/lib/python3.10/dist-packages (from transformers<5.0.0,>=4.0.0->alibi-detect) (0.4.5)\n",
            "Requirement already satisfied: tokenizers<0.21,>=0.20 in /usr/local/lib/python3.10/dist-packages (from transformers<5.0.0,>=4.0.0->alibi-detect) (0.20.3)\n",
            "Requirement already satisfied: fsspec>=2023.5.0 in /usr/local/lib/python3.10/dist-packages (from huggingface-hub<1.0,>=0.23.2->transformers<5.0.0,>=4.0.0->alibi-detect) (2024.10.0)\n",
            "Downloading ace_tools-0.0-py3-none-any.whl (1.1 kB)\n",
            "Installing collected packages: ace_tools\n",
            "Successfully installed ace_tools-0.0\n"
          ]
        }
      ]
    },
    {
      "cell_type": "code",
      "execution_count": 12,
      "metadata": {
        "colab": {
          "base_uri": "https://localhost:8080/"
        },
        "id": "GYCsmSaChurS",
        "outputId": "f116d35d-ef20-4d6a-a5cd-73709f1f5e99"
      },
      "outputs": [
        {
          "output_type": "stream",
          "name": "stdout",
          "text": [
            "Overall Drift Detected: No\n",
            "                     Feature   P-Value  Threshold Drift Detected\n",
            "0                  Education  0.998159   0.005556             No\n",
            "1                JoiningYear  0.170186   0.005556             No\n",
            "2                       City  0.992152   0.005556             No\n",
            "3                PaymentTier  1.000000   0.005556             No\n",
            "4                        Age  0.255043   0.005556             No\n",
            "5                     Gender  0.775182   0.005556             No\n",
            "6                EverBenched  0.999620   0.005556             No\n",
            "7  ExperienceInCurrentDomain  1.000000   0.005556             No\n",
            "8                 LeaveOrNot  1.000000   0.005556             No\n"
          ]
        },
        {
          "output_type": "stream",
          "name": "stderr",
          "text": [
            "/usr/local/lib/python3.10/dist-packages/alibi_detect/cd/tabular.py:113: UserWarning: No `categories_per_feature` dict provided so all features are assumed to be numerical. `KSDrift` will be applied to all features.\n",
            "  warnings.warn('No `categories_per_feature` dict provided so all features are assumed to be numerical. '\n"
          ]
        }
      ],
      "source": [
        "import pandas as pd\n",
        "from alibi_detect.cd import TabularDrift\n",
        "from pyngrok import ngrok\n",
        "\n",
        "# Define GitHub base URL\n",
        "github_base_url = \"https://raw.github.com/Guardian99/ISB-CT1_GR03/main/datasets/\"\n",
        "\n",
        "# Load train and prod datasets from GitHub\n",
        "train_data = pd.read_parquet(f\"{github_base_url}train.parquet\")\n",
        "prod_data = pd.read_parquet(f\"{github_base_url}prod.parquet\")\n",
        "\n",
        "# Align columns between train and production data\n",
        "common_cols = train_data.columns.intersection(prod_data.columns)\n",
        "train_data = train_data[common_cols]\n",
        "prod_data = prod_data[common_cols]\n",
        "\n",
        "# Convert data to numpy arrays for drift detection\n",
        "train_data_np = train_data.values\n",
        "prod_data_np = prod_data.values\n",
        "\n",
        "# Initialize the Tabular Drift Detector\n",
        "drift_detector = TabularDrift(x_ref=train_data_np,p_val=0.05)  # p_val=0.05 is the significance level\n",
        "\n",
        "\n",
        "\n",
        "# Detect drift in production data\n",
        "drift_results = drift_detector.predict(prod_data_np)\n",
        "\n",
        "# Extract results\n",
        "feature_drift = drift_results[\"data\"][\"is_drift\"]  # Overall drift status\n",
        "p_values = drift_results[\"data\"][\"p_val\"]          # P-values per feature\n",
        "thresholds = drift_results[\"data\"][\"threshold\"]    # Thresholds per feature\n",
        "\n",
        "# Create a results dataframe\n",
        "results_df = pd.DataFrame({\n",
        "    \"Feature\": train_data.columns,\n",
        "    \"P-Value\": p_values,\n",
        "    \"Threshold\": thresholds,\n",
        "    \"Drift Detected\": [\"Yes\" if p < 0.05 else \"No\" for p in p_values]\n",
        "})\n",
        "\n",
        "# Add overall drift status\n",
        "overall_drift_status = \"Yes\" if feature_drift else \"No\"\n",
        "print(f\"Overall Drift Detected: {overall_drift_status}\")\n",
        "\n",
        "# Display the results in a tabular format\n",
        "print(results_df)\n"
      ]
    }
  ]
}