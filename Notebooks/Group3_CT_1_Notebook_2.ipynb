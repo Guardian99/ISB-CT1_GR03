{
  "nbformat": 4,
  "nbformat_minor": 0,
  "metadata": {
    "colab": {
      "provenance": []
    },
    "kernelspec": {
      "name": "python3",
      "display_name": "Python 3"
    },
    "language_info": {
      "name": "python"
    }
  },
  "cells": [
    {
      "cell_type": "markdown",
      "source": [
        "# 8. Model Deployment Using FastAPI"
      ],
      "metadata": {
        "id": "500vHFoFwqEZ"
      }
    },
    {
      "cell_type": "code",
      "execution_count": null,
      "metadata": {
        "colab": {
          "base_uri": "https://localhost:8080/"
        },
        "id": "YEmfHAayY3zP",
        "outputId": "76cc8593-740a-46b4-bd7c-189b7998ca09"
      },
      "outputs": [
        {
          "output_type": "stream",
          "name": "stdout",
          "text": [
            "Collecting fastapi\n",
            "  Downloading fastapi-0.115.6-py3-none-any.whl.metadata (27 kB)\n",
            "Collecting uvicorn\n",
            "  Downloading uvicorn-0.32.1-py3-none-any.whl.metadata (6.6 kB)\n",
            "Collecting pyngrok\n",
            "  Downloading pyngrok-7.2.1-py3-none-any.whl.metadata (8.3 kB)\n",
            "Requirement already satisfied: nest-asyncio in /usr/local/lib/python3.10/dist-packages (1.6.0)\n",
            "Collecting streamlit\n",
            "  Downloading streamlit-1.40.2-py2.py3-none-any.whl.metadata (8.4 kB)\n",
            "Collecting starlette<0.42.0,>=0.40.0 (from fastapi)\n",
            "  Downloading starlette-0.41.3-py3-none-any.whl.metadata (6.0 kB)\n",
            "Requirement already satisfied: pydantic!=1.8,!=1.8.1,!=2.0.0,!=2.0.1,!=2.1.0,<3.0.0,>=1.7.4 in /usr/local/lib/python3.10/dist-packages (from fastapi) (2.10.3)\n",
            "Requirement already satisfied: typing-extensions>=4.8.0 in /usr/local/lib/python3.10/dist-packages (from fastapi) (4.12.2)\n",
            "Requirement already satisfied: click>=7.0 in /usr/local/lib/python3.10/dist-packages (from uvicorn) (8.1.7)\n",
            "Requirement already satisfied: h11>=0.8 in /usr/local/lib/python3.10/dist-packages (from uvicorn) (0.14.0)\n",
            "Requirement already satisfied: PyYAML>=5.1 in /usr/local/lib/python3.10/dist-packages (from pyngrok) (6.0.2)\n",
            "Requirement already satisfied: altair<6,>=4.0 in /usr/local/lib/python3.10/dist-packages (from streamlit) (4.2.2)\n",
            "Requirement already satisfied: blinker<2,>=1.0.0 in /usr/local/lib/python3.10/dist-packages (from streamlit) (1.9.0)\n",
            "Requirement already satisfied: cachetools<6,>=4.0 in /usr/local/lib/python3.10/dist-packages (from streamlit) (5.5.0)\n",
            "Requirement already satisfied: numpy<3,>=1.23 in /usr/local/lib/python3.10/dist-packages (from streamlit) (1.26.4)\n",
            "Requirement already satisfied: packaging<25,>=20 in /usr/local/lib/python3.10/dist-packages (from streamlit) (24.2)\n",
            "Requirement already satisfied: pandas<3,>=1.4.0 in /usr/local/lib/python3.10/dist-packages (from streamlit) (2.2.2)\n",
            "Requirement already satisfied: pillow<12,>=7.1.0 in /usr/local/lib/python3.10/dist-packages (from streamlit) (11.0.0)\n",
            "Requirement already satisfied: protobuf<6,>=3.20 in /usr/local/lib/python3.10/dist-packages (from streamlit) (4.25.5)\n",
            "Requirement already satisfied: pyarrow>=7.0 in /usr/local/lib/python3.10/dist-packages (from streamlit) (17.0.0)\n",
            "Requirement already satisfied: requests<3,>=2.27 in /usr/local/lib/python3.10/dist-packages (from streamlit) (2.32.3)\n",
            "Requirement already satisfied: rich<14,>=10.14.0 in /usr/local/lib/python3.10/dist-packages (from streamlit) (13.9.4)\n",
            "Requirement already satisfied: tenacity<10,>=8.1.0 in /usr/local/lib/python3.10/dist-packages (from streamlit) (9.0.0)\n",
            "Requirement already satisfied: toml<2,>=0.10.1 in /usr/local/lib/python3.10/dist-packages (from streamlit) (0.10.2)\n",
            "Collecting watchdog<7,>=2.1.5 (from streamlit)\n",
            "  Downloading watchdog-6.0.0-py3-none-manylinux2014_x86_64.whl.metadata (44 kB)\n",
            "\u001b[2K     \u001b[90m━━━━━━━━━━━━━━━━━━━━━━━━━━━━━━━━━━━━━━━━\u001b[0m \u001b[32m44.3/44.3 kB\u001b[0m \u001b[31m3.2 MB/s\u001b[0m eta \u001b[36m0:00:00\u001b[0m\n",
            "\u001b[?25hRequirement already satisfied: gitpython!=3.1.19,<4,>=3.0.7 in /usr/local/lib/python3.10/dist-packages (from streamlit) (3.1.43)\n",
            "Collecting pydeck<1,>=0.8.0b4 (from streamlit)\n",
            "  Downloading pydeck-0.9.1-py2.py3-none-any.whl.metadata (4.1 kB)\n",
            "Requirement already satisfied: tornado<7,>=6.0.3 in /usr/local/lib/python3.10/dist-packages (from streamlit) (6.3.3)\n",
            "Requirement already satisfied: entrypoints in /usr/local/lib/python3.10/dist-packages (from altair<6,>=4.0->streamlit) (0.4)\n",
            "Requirement already satisfied: jinja2 in /usr/local/lib/python3.10/dist-packages (from altair<6,>=4.0->streamlit) (3.1.4)\n",
            "Requirement already satisfied: jsonschema>=3.0 in /usr/local/lib/python3.10/dist-packages (from altair<6,>=4.0->streamlit) (4.23.0)\n",
            "Requirement already satisfied: toolz in /usr/local/lib/python3.10/dist-packages (from altair<6,>=4.0->streamlit) (0.12.1)\n",
            "Requirement already satisfied: gitdb<5,>=4.0.1 in /usr/local/lib/python3.10/dist-packages (from gitpython!=3.1.19,<4,>=3.0.7->streamlit) (4.0.11)\n",
            "Requirement already satisfied: python-dateutil>=2.8.2 in /usr/local/lib/python3.10/dist-packages (from pandas<3,>=1.4.0->streamlit) (2.8.2)\n",
            "Requirement already satisfied: pytz>=2020.1 in /usr/local/lib/python3.10/dist-packages (from pandas<3,>=1.4.0->streamlit) (2024.2)\n",
            "Requirement already satisfied: tzdata>=2022.7 in /usr/local/lib/python3.10/dist-packages (from pandas<3,>=1.4.0->streamlit) (2024.2)\n",
            "Requirement already satisfied: annotated-types>=0.6.0 in /usr/local/lib/python3.10/dist-packages (from pydantic!=1.8,!=1.8.1,!=2.0.0,!=2.0.1,!=2.1.0,<3.0.0,>=1.7.4->fastapi) (0.7.0)\n",
            "Requirement already satisfied: pydantic-core==2.27.1 in /usr/local/lib/python3.10/dist-packages (from pydantic!=1.8,!=1.8.1,!=2.0.0,!=2.0.1,!=2.1.0,<3.0.0,>=1.7.4->fastapi) (2.27.1)\n",
            "Requirement already satisfied: charset-normalizer<4,>=2 in /usr/local/lib/python3.10/dist-packages (from requests<3,>=2.27->streamlit) (3.4.0)\n",
            "Requirement already satisfied: idna<4,>=2.5 in /usr/local/lib/python3.10/dist-packages (from requests<3,>=2.27->streamlit) (3.10)\n",
            "Requirement already satisfied: urllib3<3,>=1.21.1 in /usr/local/lib/python3.10/dist-packages (from requests<3,>=2.27->streamlit) (2.2.3)\n",
            "Requirement already satisfied: certifi>=2017.4.17 in /usr/local/lib/python3.10/dist-packages (from requests<3,>=2.27->streamlit) (2024.8.30)\n",
            "Requirement already satisfied: markdown-it-py>=2.2.0 in /usr/local/lib/python3.10/dist-packages (from rich<14,>=10.14.0->streamlit) (3.0.0)\n",
            "Requirement already satisfied: pygments<3.0.0,>=2.13.0 in /usr/local/lib/python3.10/dist-packages (from rich<14,>=10.14.0->streamlit) (2.18.0)\n",
            "Requirement already satisfied: anyio<5,>=3.4.0 in /usr/local/lib/python3.10/dist-packages (from starlette<0.42.0,>=0.40.0->fastapi) (3.7.1)\n",
            "Requirement already satisfied: sniffio>=1.1 in /usr/local/lib/python3.10/dist-packages (from anyio<5,>=3.4.0->starlette<0.42.0,>=0.40.0->fastapi) (1.3.1)\n",
            "Requirement already satisfied: exceptiongroup in /usr/local/lib/python3.10/dist-packages (from anyio<5,>=3.4.0->starlette<0.42.0,>=0.40.0->fastapi) (1.2.2)\n",
            "Requirement already satisfied: smmap<6,>=3.0.1 in /usr/local/lib/python3.10/dist-packages (from gitdb<5,>=4.0.1->gitpython!=3.1.19,<4,>=3.0.7->streamlit) (5.0.1)\n",
            "Requirement already satisfied: MarkupSafe>=2.0 in /usr/local/lib/python3.10/dist-packages (from jinja2->altair<6,>=4.0->streamlit) (3.0.2)\n",
            "Requirement already satisfied: attrs>=22.2.0 in /usr/local/lib/python3.10/dist-packages (from jsonschema>=3.0->altair<6,>=4.0->streamlit) (24.2.0)\n",
            "Requirement already satisfied: jsonschema-specifications>=2023.03.6 in /usr/local/lib/python3.10/dist-packages (from jsonschema>=3.0->altair<6,>=4.0->streamlit) (2024.10.1)\n",
            "Requirement already satisfied: referencing>=0.28.4 in /usr/local/lib/python3.10/dist-packages (from jsonschema>=3.0->altair<6,>=4.0->streamlit) (0.35.1)\n",
            "Requirement already satisfied: rpds-py>=0.7.1 in /usr/local/lib/python3.10/dist-packages (from jsonschema>=3.0->altair<6,>=4.0->streamlit) (0.22.3)\n",
            "Requirement already satisfied: mdurl~=0.1 in /usr/local/lib/python3.10/dist-packages (from markdown-it-py>=2.2.0->rich<14,>=10.14.0->streamlit) (0.1.2)\n",
            "Requirement already satisfied: six>=1.5 in /usr/local/lib/python3.10/dist-packages (from python-dateutil>=2.8.2->pandas<3,>=1.4.0->streamlit) (1.16.0)\n",
            "Downloading fastapi-0.115.6-py3-none-any.whl (94 kB)\n",
            "\u001b[2K   \u001b[90m━━━━━━━━━━━━━━━━━━━━━━━━━━━━━━━━━━━━━━━━\u001b[0m \u001b[32m94.8/94.8 kB\u001b[0m \u001b[31m6.1 MB/s\u001b[0m eta \u001b[36m0:00:00\u001b[0m\n",
            "\u001b[?25hDownloading uvicorn-0.32.1-py3-none-any.whl (63 kB)\n",
            "\u001b[2K   \u001b[90m━━━━━━━━━━━━━━━━━━━━━━━━━━━━━━━━━━━━━━━━\u001b[0m \u001b[32m63.8/63.8 kB\u001b[0m \u001b[31m4.9 MB/s\u001b[0m eta \u001b[36m0:00:00\u001b[0m\n",
            "\u001b[?25hDownloading pyngrok-7.2.1-py3-none-any.whl (22 kB)\n",
            "Downloading streamlit-1.40.2-py2.py3-none-any.whl (8.6 MB)\n",
            "\u001b[2K   \u001b[90m━━━━━━━━━━━━━━━━━━━━━━━━━━━━━━━━━━━━━━━━\u001b[0m \u001b[32m8.6/8.6 MB\u001b[0m \u001b[31m57.8 MB/s\u001b[0m eta \u001b[36m0:00:00\u001b[0m\n",
            "\u001b[?25hDownloading pydeck-0.9.1-py2.py3-none-any.whl (6.9 MB)\n",
            "\u001b[2K   \u001b[90m━━━━━━━━━━━━━━━━━━━━━━━━━━━━━━━━━━━━━━━━\u001b[0m \u001b[32m6.9/6.9 MB\u001b[0m \u001b[31m63.1 MB/s\u001b[0m eta \u001b[36m0:00:00\u001b[0m\n",
            "\u001b[?25hDownloading starlette-0.41.3-py3-none-any.whl (73 kB)\n",
            "\u001b[2K   \u001b[90m━━━━━━━━━━━━━━━━━━━━━━━━━━━━━━━━━━━━━━━━\u001b[0m \u001b[32m73.2/73.2 kB\u001b[0m \u001b[31m5.6 MB/s\u001b[0m eta \u001b[36m0:00:00\u001b[0m\n",
            "\u001b[?25hDownloading watchdog-6.0.0-py3-none-manylinux2014_x86_64.whl (79 kB)\n",
            "\u001b[2K   \u001b[90m━━━━━━━━━━━━━━━━━━━━━━━━━━━━━━━━━━━━━━━━\u001b[0m \u001b[32m79.1/79.1 kB\u001b[0m \u001b[31m6.8 MB/s\u001b[0m eta \u001b[36m0:00:00\u001b[0m\n",
            "\u001b[?25hInstalling collected packages: watchdog, uvicorn, pyngrok, starlette, pydeck, fastapi, streamlit\n",
            "Successfully installed fastapi-0.115.6 pydeck-0.9.1 pyngrok-7.2.1 starlette-0.41.3 streamlit-1.40.2 uvicorn-0.32.1 watchdog-6.0.0\n"
          ]
        }
      ],
      "source": [
        "# Install necessary packages\n",
        "!pip install fastapi uvicorn pyngrok nest-asyncio streamlit"
      ]
    },
    {
      "cell_type": "code",
      "source": [
        "# Standard library imports\n",
        "import os\n",
        "import pickle\n",
        "import requests\n",
        "from threading import Thread\n",
        "\n",
        "# Third-party imports\n",
        "import pandas as pd\n",
        "import uvicorn\n",
        "import nest_asyncio\n",
        "from fastapi import FastAPI\n",
        "from pydantic import BaseModel\n",
        "from pyngrok import ngrok\n",
        "\n",
        "# Colab-specific imports\n",
        "from google.colab import userdata"
      ],
      "metadata": {
        "id": "hfQoYsVoxsln"
      },
      "execution_count": null,
      "outputs": []
    },
    {
      "cell_type": "markdown",
      "source": [
        "## Deploying a Prediction Service with FastAPI and Ngrok\n",
        "\n",
        "This section sets up a RESTful API using **FastAPI** to serve predictions from the trained machine learning model. The API is exposed to the public using **Ngrok** for remote accessibility.\n",
        "\n",
        "### Key Components:\n",
        "\n",
        "1. **Model Loading**:\n",
        "   - The trained model is loaded from a pickle file (`best_model.pkl`) stored in the Colab environment.\n",
        "   - Ensure that the file exists in the specified path before running the code.\n",
        "\n",
        "2. **FastAPI Initialization**:\n",
        "   - The `FastAPI` application is instantiated to define and serve the API endpoints.\n",
        "\n",
        "3. **Input Schema**:\n",
        "   - The `PredictionInput` class (a **Pydantic** model) defines the expected input structure for prediction requests. This ensures type validation and proper request formatting.\n",
        "\n",
        "4. **Prediction Endpoint**:\n",
        "   - A POST endpoint (`/predict`) is created to handle prediction requests.\n",
        "   - The input data is converted to a Pandas DataFrame before being passed to the model's `predict` method.\n",
        "   - The API returns the predicted class as a JSON response.\n",
        "\n",
        "5. **Run FastAPI in Colab**:\n",
        "   - `nest_asyncio` is used to allow the FastAPI server to run alongside the Colab notebook environment.\n",
        "   - The server runs locally on port `8000`.\n",
        "\n",
        "6. **Ngrok Integration**:\n",
        "   - Ngrok is used to expose the local FastAPI server to a public URL.\n",
        "   - The Ngrok authentication token is required to secure the tunnel.\n",
        "   - The generated public URL is printed for user access.\n",
        "\n",
        "7. **Save Public URL**:\n",
        "   - The public URL is saved to a file (`fastapi_url.txt`) for easy retrieval or use in other services like Streamlit.\n",
        "\n",
        "### Example Outputs:\n",
        "- **FastAPI Public URL**: https://57b4-34-55-151-170.ngrok-free.app\n",
        "\n",
        "\n",
        "### Benefits:\n",
        "- **Remote Prediction Service**:\n",
        "- Enables real-time predictions from the trained model, accessible from any device with the public URL.\n",
        "- **Validation**:\n",
        "- The use of Pydantic models ensures that incoming data adheres to the expected schema, reducing potential errors.\n",
        "- **Scalable Deployment**:\n",
        "- Can be extended or integrated with other applications for real-world use cases.\n",
        "\n",
        "### Applications:\n",
        "This setup is ideal for deploying machine learning models for:\n",
        "- Employee attrition prediction.\n",
        "- Providing predictions as a service for other applications.\n",
        "- Quick and collaborative model testing and validation.\n"
      ],
      "metadata": {
        "id": "J6SSo03Op6A0"
      }
    },
    {
      "cell_type": "code",
      "source": [
        "# Load the model\n",
        "MODEL_PATH = \"/content/best_model.pkl\"  # Ensure this file exists in the Colab environment\n",
        "with open(MODEL_PATH, \"rb\") as f:\n",
        "    model = pickle.load(f)\n",
        "\n",
        "# Initialize FastAPI app\n",
        "app = FastAPI()\n",
        "\n",
        "# Define the input schema\n",
        "class PredictionInput(BaseModel):\n",
        "    Education: str\n",
        "    JoiningYear: int\n",
        "    City: str\n",
        "    PaymentTier: int\n",
        "    Age: int\n",
        "    Gender: str\n",
        "    EverBenched: int\n",
        "    ExperienceInCurrentDomain: int\n",
        "\n",
        "@app.post(\"/predict\")\n",
        "def predict(input_data: PredictionInput):\n",
        "    \"\"\"Handle prediction requests.\"\"\"\n",
        "    input_df = pd.DataFrame([input_data.dict()])\n",
        "    prediction = model.predict(input_df)\n",
        "    return {\"prediction\": int(prediction[0])}\n",
        "\n",
        "# Allow FastAPI to run in Colab\n",
        "nest_asyncio.apply()\n",
        "\n",
        "# Start FastAPI server on port 8000\n",
        "def run_fastapi():\n",
        "    \"\"\"Run the FastAPI server.\"\"\"\n",
        "    uvicorn.run(app, host=\"0.0.0.0\", port=8000)\n",
        "\n",
        "fastapi_thread = Thread(target=run_fastapi, daemon=True)\n",
        "fastapi_thread.start()\n",
        "\n",
        "# Expose FastAPI through ngrok\n",
        "auth_token = userdata.get(\"Ngrok\")\n",
        "ngrok.set_auth_token(auth_token)\n",
        "ngrok_tunnel = ngrok.connect(8000)\n",
        "fastapi_url = ngrok_tunnel.public_url\n",
        "print(f\"FastAPI public URL: {fastapi_url}\")\n",
        "\n",
        "# Save FastAPI URL to a file for Streamlit to use\n",
        "with open(\"fastapi_url.txt\", \"w\") as f:\n",
        "    f.write(fastapi_url)"
      ],
      "metadata": {
        "colab": {
          "base_uri": "https://localhost:8080/"
        },
        "id": "aT4W8SFhZArR",
        "outputId": "c6f679a2-d67c-4459-84bb-a07ca8ce7df5"
      },
      "execution_count": null,
      "outputs": [
        {
          "output_type": "stream",
          "name": "stderr",
          "text": [
            "INFO:     Started server process [360]\n",
            "INFO:     Waiting for application startup.\n",
            "INFO:     Application startup complete.\n",
            "ERROR:    [Errno 98] error while attempting to bind on address ('0.0.0.0', 8000): address already in use\n",
            "INFO:     Waiting for application shutdown.\n",
            "INFO:     Application shutdown complete.\n"
          ]
        },
        {
          "output_type": "stream",
          "name": "stdout",
          "text": [
            "FastAPI public URL: https://fd4b-35-201-218-84.ngrok-free.app\n"
          ]
        }
      ]
    },
    {
      "cell_type": "markdown",
      "source": [
        "## Testing the FastAPI Prediction Endpoint\n",
        "\n",
        "This section demonstrates how to test the deployed FastAPI service by sending a prediction request and reviewing the server's response.\n",
        "\n",
        "### Key Steps:\n",
        "\n",
        "1. **Retrieve FastAPI Public URL**:\n",
        "   - The public URL for the FastAPI server is loaded from the `fastapi_url.txt` file, ensuring the correct endpoint is used for the request.\n",
        "\n",
        "2. **Prepare the Payload**:\n",
        "   - A JSON payload is defined with input data conforming to the `PredictionInput` schema. This data includes both categorical and numerical features required by the model.\n",
        "\n",
        "3. **Send a POST Request**:\n",
        "   - A POST request is made to the `/predict` endpoint using the `requests` library.\n",
        "   - The JSON payload is sent as the request body.\n",
        "\n",
        "4. **Response Handling**:\n",
        "   - The response from the FastAPI server is parsed and printed:\n",
        "     - **Status Code**: Indicates whether the request was successful (e.g., `200 OK`).\n",
        "     - **Headers**: Provides metadata about the response.\n",
        "     - **Response Text**: Displays the actual prediction returned by the server.\n",
        "\n",
        "### Example Output:\n",
        "- **Status Code**: `200` (indicating success)\n",
        "- **Headers**: Metadata, such as content type.\n",
        "- **Response Text**: JSON data, e.g., `{\"prediction\": 1}`, where `1` indicates a positive prediction for employee attrition.\n",
        "\n",
        "### Benefits:\n",
        "- **End-to-End Testing**:\n",
        "  - Verifies that the FastAPI service processes requests correctly and returns predictions as expected.\n",
        "- **Real-World Simulation**:\n",
        "  - Mimics client-side behavior to ensure the API works seamlessly for external users or applications.\n",
        "\n",
        "### Common Use Cases:\n",
        "- **Debugging**:\n",
        "  - Identifies issues in the prediction pipeline, such as mismatched input schemas or model errors.\n",
        "- **Integration Testing**:\n",
        "  - Ensures the API integrates well with client-side applications or other services.\n",
        "- **Performance Monitoring**:\n",
        "  - Evaluates response times and reliability under typical usage conditions.\n",
        "\n",
        "\n"
      ],
      "metadata": {
        "id": "pd7tn2eQqRIw"
      }
    },
    {
      "cell_type": "code",
      "source": [
        "# Testing the fastapi endpoint\n",
        "# Load FastAPI URL from file\n",
        "with open(\"fastapi_url.txt\", \"r\") as file:\n",
        "    url = file.read().strip()\n",
        "\n",
        "# Define the payload for the prediction request\n",
        "payload = {\n",
        "    \"Education\": \"Bachelors\",\n",
        "    \"JoiningYear\": 2015,\n",
        "    \"City\": \"Mumbai\",\n",
        "    \"PaymentTier\": 2,\n",
        "    \"Age\": 30,\n",
        "    \"Gender\": \"Male\",\n",
        "    \"EverBenched\": 0,  # Representing \"No\" as 0 for alignment with the schema\n",
        "    \"ExperienceInCurrentDomain\": 5\n",
        "}\n",
        "\n",
        "# Make a POST request to the FastAPI server\n",
        "response = requests.post(url + \"/predict\", json=payload)\n",
        "\n",
        "# Print the status code\n",
        "print(f\"Status Code: {response.status_code}\")\n",
        "\n",
        "# Print the headers\n",
        "print(f\"Headers: {response.headers}\")\n",
        "\n",
        "# Print the content of the response (the actual prediction)\n",
        "print(f\"Response Text: {response.text}\")"
      ],
      "metadata": {
        "id": "8pDr_dVKwnf_",
        "colab": {
          "base_uri": "https://localhost:8080/"
        },
        "outputId": "f2cf29a3-11a8-4976-cb7b-bfa5e86b76ab"
      },
      "execution_count": null,
      "outputs": [
        {
          "output_type": "stream",
          "name": "stdout",
          "text": [
            "INFO:     35.201.218.84:0 - \"POST /predict HTTP/1.1\" 200 OK\n",
            "Status Code: 200\n",
            "Headers: {'Content-Length': '16', 'Content-Type': 'application/json', 'Date': 'Sun, 08 Dec 2024 16:56:08 GMT', 'Ngrok-Agent-Ips': '35.201.218.84', 'Server': 'uvicorn'}\n",
            "Response Text: {\"prediction\":0}\n"
          ]
        },
        {
          "output_type": "stream",
          "name": "stderr",
          "text": [
            "<ipython-input-4-1d6334c4a201>:23: PydanticDeprecatedSince20: The `dict` method is deprecated; use `model_dump` instead. Deprecated in Pydantic V2.0 to be removed in V3.0. See Pydantic V2 Migration Guide at https://errors.pydantic.dev/2.10/migration/\n",
            "  input_df = pd.DataFrame([input_data.dict()])\n"
          ]
        }
      ]
    }
  ]
}