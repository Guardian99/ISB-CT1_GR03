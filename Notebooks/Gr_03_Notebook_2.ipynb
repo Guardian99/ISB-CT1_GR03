{
  "nbformat": 4,
  "nbformat_minor": 0,
  "metadata": {
    "colab": {
      "provenance": []
    },
    "kernelspec": {
      "name": "python3",
      "display_name": "Python 3"
    },
    "language_info": {
      "name": "python"
    }
  },
  "cells": [
    {
      "cell_type": "markdown",
      "source": [
        "# 8. Model Deployment Using FastAPI"
      ],
      "metadata": {
        "id": "500vHFoFwqEZ"
      }
    },
    {
      "cell_type": "code",
      "execution_count": null,
      "metadata": {
        "colab": {
          "base_uri": "https://localhost:8080/"
        },
        "id": "YEmfHAayY3zP",
        "outputId": "8679354a-81f0-42d7-e25e-a29ee930d39e"
      },
      "outputs": [
        {
          "output_type": "stream",
          "name": "stdout",
          "text": [
            "Requirement already satisfied: fastapi in /usr/local/lib/python3.10/dist-packages (0.115.6)\n",
            "Requirement already satisfied: uvicorn in /usr/local/lib/python3.10/dist-packages (0.32.1)\n",
            "Requirement already satisfied: pyngrok in /usr/local/lib/python3.10/dist-packages (7.2.1)\n",
            "Requirement already satisfied: nest-asyncio in /usr/local/lib/python3.10/dist-packages (1.6.0)\n",
            "Requirement already satisfied: streamlit in /usr/local/lib/python3.10/dist-packages (1.41.0)\n",
            "Requirement already satisfied: starlette<0.42.0,>=0.40.0 in /usr/local/lib/python3.10/dist-packages (from fastapi) (0.41.3)\n",
            "Requirement already satisfied: pydantic!=1.8,!=1.8.1,!=2.0.0,!=2.0.1,!=2.1.0,<3.0.0,>=1.7.4 in /usr/local/lib/python3.10/dist-packages (from fastapi) (2.10.3)\n",
            "Requirement already satisfied: typing-extensions>=4.8.0 in /usr/local/lib/python3.10/dist-packages (from fastapi) (4.12.2)\n",
            "Requirement already satisfied: click>=7.0 in /usr/local/lib/python3.10/dist-packages (from uvicorn) (8.1.7)\n",
            "Requirement already satisfied: h11>=0.8 in /usr/local/lib/python3.10/dist-packages (from uvicorn) (0.14.0)\n",
            "Requirement already satisfied: PyYAML>=5.1 in /usr/local/lib/python3.10/dist-packages (from pyngrok) (6.0.2)\n",
            "Requirement already satisfied: altair<6,>=4.0 in /usr/local/lib/python3.10/dist-packages (from streamlit) (5.5.0)\n",
            "Requirement already satisfied: blinker<2,>=1.0.0 in /usr/local/lib/python3.10/dist-packages (from streamlit) (1.9.0)\n",
            "Requirement already satisfied: cachetools<6,>=4.0 in /usr/local/lib/python3.10/dist-packages (from streamlit) (5.5.0)\n",
            "Requirement already satisfied: numpy<3,>=1.23 in /usr/local/lib/python3.10/dist-packages (from streamlit) (1.26.4)\n",
            "Requirement already satisfied: packaging<25,>=20 in /usr/local/lib/python3.10/dist-packages (from streamlit) (24.2)\n",
            "Requirement already satisfied: pandas<3,>=1.4.0 in /usr/local/lib/python3.10/dist-packages (from streamlit) (2.2.2)\n",
            "Requirement already satisfied: pillow<12,>=7.1.0 in /usr/local/lib/python3.10/dist-packages (from streamlit) (11.0.0)\n",
            "Requirement already satisfied: protobuf<6,>=3.20 in /usr/local/lib/python3.10/dist-packages (from streamlit) (4.25.5)\n",
            "Requirement already satisfied: pyarrow>=7.0 in /usr/local/lib/python3.10/dist-packages (from streamlit) (17.0.0)\n",
            "Requirement already satisfied: requests<3,>=2.27 in /usr/local/lib/python3.10/dist-packages (from streamlit) (2.32.3)\n",
            "Requirement already satisfied: rich<14,>=10.14.0 in /usr/local/lib/python3.10/dist-packages (from streamlit) (13.9.4)\n",
            "Requirement already satisfied: tenacity<10,>=8.1.0 in /usr/local/lib/python3.10/dist-packages (from streamlit) (9.0.0)\n",
            "Requirement already satisfied: toml<2,>=0.10.1 in /usr/local/lib/python3.10/dist-packages (from streamlit) (0.10.2)\n",
            "Requirement already satisfied: watchdog<7,>=2.1.5 in /usr/local/lib/python3.10/dist-packages (from streamlit) (6.0.0)\n",
            "Requirement already satisfied: gitpython!=3.1.19,<4,>=3.0.7 in /usr/local/lib/python3.10/dist-packages (from streamlit) (3.1.43)\n",
            "Requirement already satisfied: pydeck<1,>=0.8.0b4 in /usr/local/lib/python3.10/dist-packages (from streamlit) (0.9.1)\n",
            "Requirement already satisfied: tornado<7,>=6.0.3 in /usr/local/lib/python3.10/dist-packages (from streamlit) (6.3.3)\n",
            "Requirement already satisfied: jinja2 in /usr/local/lib/python3.10/dist-packages (from altair<6,>=4.0->streamlit) (3.1.4)\n",
            "Requirement already satisfied: jsonschema>=3.0 in /usr/local/lib/python3.10/dist-packages (from altair<6,>=4.0->streamlit) (4.23.0)\n",
            "Requirement already satisfied: narwhals>=1.14.2 in /usr/local/lib/python3.10/dist-packages (from altair<6,>=4.0->streamlit) (1.16.0)\n",
            "Requirement already satisfied: gitdb<5,>=4.0.1 in /usr/local/lib/python3.10/dist-packages (from gitpython!=3.1.19,<4,>=3.0.7->streamlit) (4.0.11)\n",
            "Requirement already satisfied: python-dateutil>=2.8.2 in /usr/local/lib/python3.10/dist-packages (from pandas<3,>=1.4.0->streamlit) (2.8.2)\n",
            "Requirement already satisfied: pytz>=2020.1 in /usr/local/lib/python3.10/dist-packages (from pandas<3,>=1.4.0->streamlit) (2024.2)\n",
            "Requirement already satisfied: tzdata>=2022.7 in /usr/local/lib/python3.10/dist-packages (from pandas<3,>=1.4.0->streamlit) (2024.2)\n",
            "Requirement already satisfied: annotated-types>=0.6.0 in /usr/local/lib/python3.10/dist-packages (from pydantic!=1.8,!=1.8.1,!=2.0.0,!=2.0.1,!=2.1.0,<3.0.0,>=1.7.4->fastapi) (0.7.0)\n",
            "Requirement already satisfied: pydantic-core==2.27.1 in /usr/local/lib/python3.10/dist-packages (from pydantic!=1.8,!=1.8.1,!=2.0.0,!=2.0.1,!=2.1.0,<3.0.0,>=1.7.4->fastapi) (2.27.1)\n",
            "Requirement already satisfied: charset-normalizer<4,>=2 in /usr/local/lib/python3.10/dist-packages (from requests<3,>=2.27->streamlit) (3.4.0)\n",
            "Requirement already satisfied: idna<4,>=2.5 in /usr/local/lib/python3.10/dist-packages (from requests<3,>=2.27->streamlit) (3.10)\n",
            "Requirement already satisfied: urllib3<3,>=1.21.1 in /usr/local/lib/python3.10/dist-packages (from requests<3,>=2.27->streamlit) (2.2.3)\n",
            "Requirement already satisfied: certifi>=2017.4.17 in /usr/local/lib/python3.10/dist-packages (from requests<3,>=2.27->streamlit) (2024.8.30)\n",
            "Requirement already satisfied: markdown-it-py>=2.2.0 in /usr/local/lib/python3.10/dist-packages (from rich<14,>=10.14.0->streamlit) (3.0.0)\n",
            "Requirement already satisfied: pygments<3.0.0,>=2.13.0 in /usr/local/lib/python3.10/dist-packages (from rich<14,>=10.14.0->streamlit) (2.18.0)\n",
            "Requirement already satisfied: anyio<5,>=3.4.0 in /usr/local/lib/python3.10/dist-packages (from starlette<0.42.0,>=0.40.0->fastapi) (3.7.1)\n",
            "Requirement already satisfied: sniffio>=1.1 in /usr/local/lib/python3.10/dist-packages (from anyio<5,>=3.4.0->starlette<0.42.0,>=0.40.0->fastapi) (1.3.1)\n",
            "Requirement already satisfied: exceptiongroup in /usr/local/lib/python3.10/dist-packages (from anyio<5,>=3.4.0->starlette<0.42.0,>=0.40.0->fastapi) (1.2.2)\n",
            "Requirement already satisfied: smmap<6,>=3.0.1 in /usr/local/lib/python3.10/dist-packages (from gitdb<5,>=4.0.1->gitpython!=3.1.19,<4,>=3.0.7->streamlit) (5.0.1)\n",
            "Requirement already satisfied: MarkupSafe>=2.0 in /usr/local/lib/python3.10/dist-packages (from jinja2->altair<6,>=4.0->streamlit) (3.0.2)\n",
            "Requirement already satisfied: attrs>=22.2.0 in /usr/local/lib/python3.10/dist-packages (from jsonschema>=3.0->altair<6,>=4.0->streamlit) (24.2.0)\n",
            "Requirement already satisfied: jsonschema-specifications>=2023.03.6 in /usr/local/lib/python3.10/dist-packages (from jsonschema>=3.0->altair<6,>=4.0->streamlit) (2024.10.1)\n",
            "Requirement already satisfied: referencing>=0.28.4 in /usr/local/lib/python3.10/dist-packages (from jsonschema>=3.0->altair<6,>=4.0->streamlit) (0.35.1)\n",
            "Requirement already satisfied: rpds-py>=0.7.1 in /usr/local/lib/python3.10/dist-packages (from jsonschema>=3.0->altair<6,>=4.0->streamlit) (0.22.3)\n",
            "Requirement already satisfied: mdurl~=0.1 in /usr/local/lib/python3.10/dist-packages (from markdown-it-py>=2.2.0->rich<14,>=10.14.0->streamlit) (0.1.2)\n",
            "Requirement already satisfied: six>=1.5 in /usr/local/lib/python3.10/dist-packages (from python-dateutil>=2.8.2->pandas<3,>=1.4.0->streamlit) (1.17.0)\n"
          ]
        }
      ],
      "source": [
        "# Install necessary packages\n",
        "!pip install fastapi uvicorn pyngrok nest-asyncio streamlit"
      ]
    },
    {
      "cell_type": "code",
      "source": [
        "# Standard library imports\n",
        "import os\n",
        "import pickle\n",
        "import requests\n",
        "from threading import Thread\n",
        "\n",
        "# Third-party imports\n",
        "import pandas as pd\n",
        "import uvicorn\n",
        "import nest_asyncio\n",
        "from fastapi import FastAPI\n",
        "from pydantic import BaseModel\n",
        "from pyngrok import ngrok"
      ],
      "metadata": {
        "id": "hfQoYsVoxsln"
      },
      "execution_count": null,
      "outputs": []
    },
    {
      "cell_type": "markdown",
      "source": [
        "## Deploying a Prediction Service with FastAPI and Ngrok\n",
        "\n",
        "This section sets up a RESTful API using **FastAPI** to serve predictions from the trained machine learning model. The API is exposed to the public using **Ngrok** for remote accessibility.\n",
        "\n",
        "### Key Components:\n",
        "\n",
        "1. **Model Loading**:\n",
        "   - The trained model is loaded from a pickle file (`best_model.pkl`) stored in the Colab environment (since the notebooks are different , we would need to manually select the best model and utilize it here)\n",
        "   - Ensure that the file exists in the specified path before running the code. You can download a sample best model from here https://github.com/Guardian99/ISB-CT1_GR03/blob/main/Models/best_model.pkl\n",
        "\n",
        "2. **FastAPI Initialization**:\n",
        "   - The `FastAPI` application is instantiated to define and serve the API endpoints.\n",
        "\n",
        "3. **Input Schema**:\n",
        "   - The `PredictionInput` class (a **Pydantic** model) defines the expected input structure for prediction requests. This ensures type validation and proper request formatting.\n",
        "\n",
        "4. **Prediction Endpoint**:\n",
        "   - A POST endpoint (`/predict`) is created to handle prediction requests.\n",
        "   - The input data is converted to a Pandas DataFrame before being passed to the model's `predict` method.\n",
        "   - The API returns the predicted class as a JSON response.\n",
        "\n",
        "5. **Run FastAPI in Colab**:\n",
        "   - `nest_asyncio` is used to allow the FastAPI server to run alongside the Colab notebook environment.\n",
        "   - The server runs locally on port `8000`.\n",
        "\n",
        "6. **Ngrok Integration**:\n",
        "   - Ngrok is used to expose the local FastAPI server to a public URL.\n",
        "   - The Ngrok authentication token is required to secure the tunnel.\n",
        "   - The generated public URL is printed for user access.\n",
        "\n",
        "7. **Save Public URL**:\n",
        "   - The public URL is saved to a file (`fastapi_url.txt`) for easy retrieval or use in other services like Streamlit.\n",
        "\n",
        "### Example Outputs:\n",
        "- **FastAPI Public URL**: https://57b4-34-55-151-170.ngrok-free.app\n",
        "\n",
        "\n",
        "### Benefits:\n",
        "- **Remote Prediction Service**:\n",
        "- Enables real-time predictions from the trained model, accessible from any device with the public URL.\n",
        "- **Validation**:\n",
        "- The use of Pydantic models ensures that incoming data adheres to the expected schema, reducing potential errors.\n",
        "- **Scalable Deployment**:\n",
        "- Can be extended or integrated with other applications for real-world use cases.\n",
        "\n",
        "### Applications:\n",
        "This setup is ideal for deploying machine learning models for:\n",
        "- Employee attrition prediction.\n",
        "- Providing predictions as a service for other applications.\n",
        "- Quick and collaborative model testing and validation.\n"
      ],
      "metadata": {
        "id": "J6SSo03Op6A0"
      }
    },
    {
      "cell_type": "code",
      "source": [
        "# Load the model\n",
        "MODEL_PATH = \"/content/best_model.pkl\"  # Ensure this file exists in the Colab environment\n",
        "with open(MODEL_PATH, \"rb\") as f:\n",
        "    model = pickle.load(f)\n",
        "\n",
        "# Initialize FastAPI app\n",
        "app = FastAPI()\n",
        "\n",
        "# Define the input schema\n",
        "class PredictionInput(BaseModel):\n",
        "    Education: str\n",
        "    JoiningYear: int\n",
        "    City: str\n",
        "    PaymentTier: int\n",
        "    Age: int\n",
        "    Gender: str\n",
        "    EverBenched: int\n",
        "    ExperienceInCurrentDomain: int\n",
        "\n",
        "@app.post(\"/predict\")\n",
        "def predict(input_data: PredictionInput):\n",
        "    \"\"\"Handle prediction requests.\"\"\"\n",
        "    input_df = pd.DataFrame([input_data.dict()])\n",
        "    prediction = model.predict(input_df)\n",
        "    return {\"prediction\": int(prediction[0])}\n",
        "\n",
        "# Allow FastAPI to run in Colab\n",
        "nest_asyncio.apply()\n",
        "\n",
        "# Start FastAPI server on port 8000\n",
        "def run_fastapi():\n",
        "    \"\"\"Run the FastAPI server.\"\"\"\n",
        "    uvicorn.run(app, host=\"0.0.0.0\", port=8000)\n",
        "\n",
        "fastapi_thread = Thread(target=run_fastapi, daemon=True)\n",
        "fastapi_thread.start()\n",
        "\n",
        "# Expose FastAPI through ngrok\n",
        "auth_token = '2qAc8RDV3pPFCephUHKYQgjLxZE_3vFmXHsh66CVDFkXzAmG9'\n",
        "ngrok.set_auth_token(auth_token)\n",
        "ngrok_tunnel = ngrok.connect(8000)\n",
        "fastapi_url = ngrok_tunnel.public_url\n",
        "print(f\"FastAPI public URL: {fastapi_url}\")\n",
        "\n",
        "# Save FastAPI URL to a file for Streamlit to use\n",
        "with open(\"fastapi_url.txt\", \"w\") as f:\n",
        "    f.write(fastapi_url)"
      ],
      "metadata": {
        "colab": {
          "base_uri": "https://localhost:8080/"
        },
        "id": "aT4W8SFhZArR",
        "outputId": "0a45772c-44cc-4e23-da0c-54d2bc9fc0bc"
      },
      "execution_count": null,
      "outputs": [
        {
          "output_type": "stream",
          "name": "stderr",
          "text": [
            "INFO:     Started server process [207]\n",
            "INFO:     Waiting for application startup.\n",
            "INFO:     Application startup complete.\n",
            "ERROR:    [Errno 98] error while attempting to bind on address ('0.0.0.0', 8000): address already in use\n",
            "INFO:     Waiting for application shutdown.\n",
            "INFO:     Application shutdown complete.\n"
          ]
        },
        {
          "output_type": "stream",
          "name": "stdout",
          "text": [
            "FastAPI public URL: https://ad89-34-138-219-47.ngrok-free.app\n"
          ]
        }
      ]
    },
    {
      "cell_type": "markdown",
      "source": [
        "## Testing the FastAPI Prediction Endpoint\n",
        "\n",
        "This section demonstrates how to test the deployed FastAPI service by sending a prediction request and reviewing the server's response.\n",
        "\n",
        "### Key Steps:\n",
        "\n",
        "1. **Retrieve FastAPI Public URL**:\n",
        "   - The public URL for the FastAPI server is loaded from the `fastapi_url.txt` file, ensuring the correct endpoint is used for the request.\n",
        "\n",
        "2. **Prepare the Payload**:\n",
        "   - A JSON payload is defined with input data conforming to the `PredictionInput` schema. This data includes both categorical and numerical features required by the model.\n",
        "\n",
        "3. **Send a POST Request**:\n",
        "   - A POST request is made to the `/predict` endpoint using the `requests` library.\n",
        "   - The JSON payload is sent as the request body.\n",
        "\n",
        "4. **Response Handling**:\n",
        "   - The response from the FastAPI server is parsed and printed:\n",
        "     - **Status Code**: Indicates whether the request was successful (e.g., `200 OK`).\n",
        "     - **Headers**: Provides metadata about the response.\n",
        "     - **Response Text**: Displays the actual prediction returned by the server.\n",
        "\n",
        "### Example Output:\n",
        "- **Status Code**: `200` (indicating success)\n",
        "- **Headers**: Metadata, such as content type.\n",
        "- **Response Text**: JSON data, e.g., `{\"prediction\": 1}`, where `1` indicates a positive prediction for employee attrition.\n",
        "\n",
        "### Benefits:\n",
        "- **End-to-End Testing**:\n",
        "  - Verifies that the FastAPI service processes requests correctly and returns predictions as expected.\n",
        "- **Real-World Simulation**:\n",
        "  - Mimics client-side behavior to ensure the API works seamlessly for external users or applications.\n",
        "\n",
        "### Common Use Cases:\n",
        "- **Debugging**:\n",
        "  - Identifies issues in the prediction pipeline, such as mismatched input schemas or model errors.\n",
        "- **Integration Testing**:\n",
        "  - Ensures the API integrates well with client-side applications or other services.\n",
        "- **Performance Monitoring**:\n",
        "  - Evaluates response times and reliability under typical usage conditions.\n",
        "\n",
        "\n"
      ],
      "metadata": {
        "id": "pd7tn2eQqRIw"
      }
    },
    {
      "cell_type": "code",
      "source": [
        "# Testing the fastapi endpoint\n",
        "# Load FastAPI URL from file\n",
        "with open(\"fastapi_url.txt\", \"r\") as file:\n",
        "    url = file.read().strip()\n",
        "\n",
        "# Define the payload for the prediction request\n",
        "payload = {\n",
        "    \"Education\": \"Bachelors\",\n",
        "    \"JoiningYear\": 2015,\n",
        "    \"City\": \"Mumbai\",\n",
        "    \"PaymentTier\": 2,\n",
        "    \"Age\": 30,\n",
        "    \"Gender\": \"Male\",\n",
        "    \"EverBenched\": 0,  # Representing \"No\" as 0 for alignment with the schema\n",
        "    \"ExperienceInCurrentDomain\": 5\n",
        "}\n",
        "\n",
        "# Make a POST request to the FastAPI server\n",
        "response = requests.post(url + \"/predict\", json=payload)\n",
        "\n",
        "# Print the status code\n",
        "print(f\"Status Code: {response.status_code}\")\n",
        "\n",
        "# Print the headers\n",
        "print(f\"Headers: {response.headers}\")\n",
        "\n",
        "# Print the content of the response (the actual prediction)\n",
        "print(f\"Response Text: {response.text}\")"
      ],
      "metadata": {
        "id": "8pDr_dVKwnf_",
        "colab": {
          "base_uri": "https://localhost:8080/"
        },
        "outputId": "44fdb4b5-21c3-4383-88dc-4b5a7da09923"
      },
      "execution_count": null,
      "outputs": [
        {
          "output_type": "stream",
          "name": "stderr",
          "text": [
            "<ipython-input-3-1d6334c4a201>:23: PydanticDeprecatedSince20: The `dict` method is deprecated; use `model_dump` instead. Deprecated in Pydantic V2.0 to be removed in V3.0. See Pydantic V2 Migration Guide at https://errors.pydantic.dev/2.10/migration/\n",
            "  input_df = pd.DataFrame([input_data.dict()])\n",
            "ERROR:asyncio:Task exception was never retrieved\n",
            "future: <Task finished name='Task-22' coro=<Server.serve() done, defined at /usr/local/lib/python3.10/dist-packages/uvicorn/server.py:67> exception=SystemExit(1)>\n",
            "Traceback (most recent call last):\n",
            "  File \"/usr/local/lib/python3.10/dist-packages/uvicorn/server.py\", line 162, in startup\n",
            "    server = await loop.create_server(\n",
            "  File \"/usr/lib/python3.10/asyncio/base_events.py\", line 1519, in create_server\n",
            "    raise OSError(err.errno, 'error while attempting '\n",
            "OSError: [Errno 98] error while attempting to bind on address ('0.0.0.0', 8000): address already in use\n",
            "\n",
            "During handling of the above exception, another exception occurred:\n",
            "\n",
            "Traceback (most recent call last):\n",
            "  File \"/usr/lib/python3.10/threading.py\", line 1016, in _bootstrap_inner\n",
            "    self.run()\n",
            "  File \"/usr/lib/python3.10/threading.py\", line 953, in run\n",
            "    self._target(*self._args, **self._kwargs)\n",
            "  File \"<ipython-input-21-90c932f341b3>\", line 33, in run_fastapi\n",
            "    uvicorn.run(app, host=\"0.0.0.0\", port=8000)\n",
            "  File \"/usr/local/lib/python3.10/dist-packages/uvicorn/main.py\", line 579, in run\n",
            "    server.run()\n",
            "  File \"/usr/local/lib/python3.10/dist-packages/uvicorn/server.py\", line 65, in run\n",
            "    return asyncio.run(self.serve(sockets=sockets))\n",
            "  File \"/usr/local/lib/python3.10/dist-packages/nest_asyncio.py\", line 30, in run\n",
            "    return loop.run_until_complete(task)\n",
            "  File \"/usr/local/lib/python3.10/dist-packages/nest_asyncio.py\", line 92, in run_until_complete\n",
            "    self._run_once()\n",
            "  File \"/usr/local/lib/python3.10/dist-packages/nest_asyncio.py\", line 133, in _run_once\n",
            "    handle._run()\n",
            "  File \"/usr/lib/python3.10/asyncio/events.py\", line 80, in _run\n",
            "    self._context.run(self._callback, *self._args)\n",
            "  File \"/usr/lib/python3.10/asyncio/tasks.py\", line 315, in __wakeup\n",
            "    self.__step()\n",
            "  File \"/usr/lib/python3.10/asyncio/tasks.py\", line 232, in __step\n",
            "    result = coro.send(None)\n",
            "  File \"/usr/local/lib/python3.10/dist-packages/uvicorn/server.py\", line 69, in serve\n",
            "    await self._serve(sockets)\n",
            "  File \"/usr/local/lib/python3.10/dist-packages/uvicorn/server.py\", line 84, in _serve\n",
            "    await self.startup(sockets=sockets)\n",
            "  File \"/usr/local/lib/python3.10/dist-packages/uvicorn/server.py\", line 172, in startup\n",
            "    sys.exit(1)\n",
            "SystemExit: 1\n"
          ]
        },
        {
          "output_type": "stream",
          "name": "stdout",
          "text": [
            "INFO:     34.138.219.47:0 - \"POST /predict HTTP/1.1\" 200 OK\n",
            "Status Code: 200\n",
            "Headers: {'Content-Length': '16', 'Content-Type': 'application/json', 'Date': 'Fri, 13 Dec 2024 17:33:31 GMT', 'Ngrok-Agent-Ips': '34.138.219.47', 'Server': 'uvicorn'}\n",
            "Response Text: {\"prediction\":0}\n"
          ]
        }
      ]
    }
  ]
}