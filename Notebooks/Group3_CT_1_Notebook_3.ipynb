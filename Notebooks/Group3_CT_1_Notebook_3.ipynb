{
  "nbformat": 4,
  "nbformat_minor": 0,
  "metadata": {
    "colab": {
      "provenance": []
    },
    "kernelspec": {
      "name": "python3",
      "display_name": "Python 3"
    },
    "language_info": {
      "name": "python"
    }
  },
  "cells": [
    {
      "cell_type": "markdown",
      "source": [
        "# 9. User Interface Development with Streamlit"
      ],
      "metadata": {
        "id": "L0_27oPVyTXZ"
      }
    },
    {
      "cell_type": "code",
      "source": [
        "# Install necessary packages\n",
        "!pip install fastapi uvicorn pyngrok nest-asyncio streamlit"
      ],
      "metadata": {
        "colab": {
          "base_uri": "https://localhost:8080/"
        },
        "id": "Qu0A1JyDzpfs",
        "outputId": "0f4fbc60-41c7-4446-bb02-717c0bbeb730"
      },
      "execution_count": null,
      "outputs": [
        {
          "output_type": "stream",
          "name": "stdout",
          "text": [
            "Collecting fastapi\n",
            "  Downloading fastapi-0.115.6-py3-none-any.whl.metadata (27 kB)\n",
            "Collecting uvicorn\n",
            "  Downloading uvicorn-0.32.1-py3-none-any.whl.metadata (6.6 kB)\n",
            "Collecting pyngrok\n",
            "  Downloading pyngrok-7.2.1-py3-none-any.whl.metadata (8.3 kB)\n",
            "Requirement already satisfied: nest-asyncio in /usr/local/lib/python3.10/dist-packages (1.6.0)\n",
            "Collecting streamlit\n",
            "  Downloading streamlit-1.40.2-py2.py3-none-any.whl.metadata (8.4 kB)\n",
            "Collecting starlette<0.42.0,>=0.40.0 (from fastapi)\n",
            "  Downloading starlette-0.41.3-py3-none-any.whl.metadata (6.0 kB)\n",
            "Requirement already satisfied: pydantic!=1.8,!=1.8.1,!=2.0.0,!=2.0.1,!=2.1.0,<3.0.0,>=1.7.4 in /usr/local/lib/python3.10/dist-packages (from fastapi) (2.10.3)\n",
            "Requirement already satisfied: typing-extensions>=4.8.0 in /usr/local/lib/python3.10/dist-packages (from fastapi) (4.12.2)\n",
            "Requirement already satisfied: click>=7.0 in /usr/local/lib/python3.10/dist-packages (from uvicorn) (8.1.7)\n",
            "Requirement already satisfied: h11>=0.8 in /usr/local/lib/python3.10/dist-packages (from uvicorn) (0.14.0)\n",
            "Requirement already satisfied: PyYAML>=5.1 in /usr/local/lib/python3.10/dist-packages (from pyngrok) (6.0.2)\n",
            "Requirement already satisfied: altair<6,>=4.0 in /usr/local/lib/python3.10/dist-packages (from streamlit) (4.2.2)\n",
            "Requirement already satisfied: blinker<2,>=1.0.0 in /usr/local/lib/python3.10/dist-packages (from streamlit) (1.9.0)\n",
            "Requirement already satisfied: cachetools<6,>=4.0 in /usr/local/lib/python3.10/dist-packages (from streamlit) (5.5.0)\n",
            "Requirement already satisfied: numpy<3,>=1.23 in /usr/local/lib/python3.10/dist-packages (from streamlit) (1.26.4)\n",
            "Requirement already satisfied: packaging<25,>=20 in /usr/local/lib/python3.10/dist-packages (from streamlit) (24.2)\n",
            "Requirement already satisfied: pandas<3,>=1.4.0 in /usr/local/lib/python3.10/dist-packages (from streamlit) (2.2.2)\n",
            "Requirement already satisfied: pillow<12,>=7.1.0 in /usr/local/lib/python3.10/dist-packages (from streamlit) (11.0.0)\n",
            "Requirement already satisfied: protobuf<6,>=3.20 in /usr/local/lib/python3.10/dist-packages (from streamlit) (4.25.5)\n",
            "Requirement already satisfied: pyarrow>=7.0 in /usr/local/lib/python3.10/dist-packages (from streamlit) (17.0.0)\n",
            "Requirement already satisfied: requests<3,>=2.27 in /usr/local/lib/python3.10/dist-packages (from streamlit) (2.32.3)\n",
            "Requirement already satisfied: rich<14,>=10.14.0 in /usr/local/lib/python3.10/dist-packages (from streamlit) (13.9.4)\n",
            "Requirement already satisfied: tenacity<10,>=8.1.0 in /usr/local/lib/python3.10/dist-packages (from streamlit) (9.0.0)\n",
            "Requirement already satisfied: toml<2,>=0.10.1 in /usr/local/lib/python3.10/dist-packages (from streamlit) (0.10.2)\n",
            "Collecting watchdog<7,>=2.1.5 (from streamlit)\n",
            "  Downloading watchdog-6.0.0-py3-none-manylinux2014_x86_64.whl.metadata (44 kB)\n",
            "\u001b[2K     \u001b[90m━━━━━━━━━━━━━━━━━━━━━━━━━━━━━━━━━━━━━━━━\u001b[0m \u001b[32m44.3/44.3 kB\u001b[0m \u001b[31m4.6 MB/s\u001b[0m eta \u001b[36m0:00:00\u001b[0m\n",
            "\u001b[?25hRequirement already satisfied: gitpython!=3.1.19,<4,>=3.0.7 in /usr/local/lib/python3.10/dist-packages (from streamlit) (3.1.43)\n",
            "Collecting pydeck<1,>=0.8.0b4 (from streamlit)\n",
            "  Downloading pydeck-0.9.1-py2.py3-none-any.whl.metadata (4.1 kB)\n",
            "Requirement already satisfied: tornado<7,>=6.0.3 in /usr/local/lib/python3.10/dist-packages (from streamlit) (6.3.3)\n",
            "Requirement already satisfied: entrypoints in /usr/local/lib/python3.10/dist-packages (from altair<6,>=4.0->streamlit) (0.4)\n",
            "Requirement already satisfied: jinja2 in /usr/local/lib/python3.10/dist-packages (from altair<6,>=4.0->streamlit) (3.1.4)\n",
            "Requirement already satisfied: jsonschema>=3.0 in /usr/local/lib/python3.10/dist-packages (from altair<6,>=4.0->streamlit) (4.23.0)\n",
            "Requirement already satisfied: toolz in /usr/local/lib/python3.10/dist-packages (from altair<6,>=4.0->streamlit) (0.12.1)\n",
            "Requirement already satisfied: gitdb<5,>=4.0.1 in /usr/local/lib/python3.10/dist-packages (from gitpython!=3.1.19,<4,>=3.0.7->streamlit) (4.0.11)\n",
            "Requirement already satisfied: python-dateutil>=2.8.2 in /usr/local/lib/python3.10/dist-packages (from pandas<3,>=1.4.0->streamlit) (2.8.2)\n",
            "Requirement already satisfied: pytz>=2020.1 in /usr/local/lib/python3.10/dist-packages (from pandas<3,>=1.4.0->streamlit) (2024.2)\n",
            "Requirement already satisfied: tzdata>=2022.7 in /usr/local/lib/python3.10/dist-packages (from pandas<3,>=1.4.0->streamlit) (2024.2)\n",
            "Requirement already satisfied: annotated-types>=0.6.0 in /usr/local/lib/python3.10/dist-packages (from pydantic!=1.8,!=1.8.1,!=2.0.0,!=2.0.1,!=2.1.0,<3.0.0,>=1.7.4->fastapi) (0.7.0)\n",
            "Requirement already satisfied: pydantic-core==2.27.1 in /usr/local/lib/python3.10/dist-packages (from pydantic!=1.8,!=1.8.1,!=2.0.0,!=2.0.1,!=2.1.0,<3.0.0,>=1.7.4->fastapi) (2.27.1)\n",
            "Requirement already satisfied: charset-normalizer<4,>=2 in /usr/local/lib/python3.10/dist-packages (from requests<3,>=2.27->streamlit) (3.4.0)\n",
            "Requirement already satisfied: idna<4,>=2.5 in /usr/local/lib/python3.10/dist-packages (from requests<3,>=2.27->streamlit) (3.10)\n",
            "Requirement already satisfied: urllib3<3,>=1.21.1 in /usr/local/lib/python3.10/dist-packages (from requests<3,>=2.27->streamlit) (2.2.3)\n",
            "Requirement already satisfied: certifi>=2017.4.17 in /usr/local/lib/python3.10/dist-packages (from requests<3,>=2.27->streamlit) (2024.8.30)\n",
            "Requirement already satisfied: markdown-it-py>=2.2.0 in /usr/local/lib/python3.10/dist-packages (from rich<14,>=10.14.0->streamlit) (3.0.0)\n",
            "Requirement already satisfied: pygments<3.0.0,>=2.13.0 in /usr/local/lib/python3.10/dist-packages (from rich<14,>=10.14.0->streamlit) (2.18.0)\n",
            "Requirement already satisfied: anyio<5,>=3.4.0 in /usr/local/lib/python3.10/dist-packages (from starlette<0.42.0,>=0.40.0->fastapi) (3.7.1)\n",
            "Requirement already satisfied: sniffio>=1.1 in /usr/local/lib/python3.10/dist-packages (from anyio<5,>=3.4.0->starlette<0.42.0,>=0.40.0->fastapi) (1.3.1)\n",
            "Requirement already satisfied: exceptiongroup in /usr/local/lib/python3.10/dist-packages (from anyio<5,>=3.4.0->starlette<0.42.0,>=0.40.0->fastapi) (1.2.2)\n",
            "Requirement already satisfied: smmap<6,>=3.0.1 in /usr/local/lib/python3.10/dist-packages (from gitdb<5,>=4.0.1->gitpython!=3.1.19,<4,>=3.0.7->streamlit) (5.0.1)\n",
            "Requirement already satisfied: MarkupSafe>=2.0 in /usr/local/lib/python3.10/dist-packages (from jinja2->altair<6,>=4.0->streamlit) (3.0.2)\n",
            "Requirement already satisfied: attrs>=22.2.0 in /usr/local/lib/python3.10/dist-packages (from jsonschema>=3.0->altair<6,>=4.0->streamlit) (24.2.0)\n",
            "Requirement already satisfied: jsonschema-specifications>=2023.03.6 in /usr/local/lib/python3.10/dist-packages (from jsonschema>=3.0->altair<6,>=4.0->streamlit) (2024.10.1)\n",
            "Requirement already satisfied: referencing>=0.28.4 in /usr/local/lib/python3.10/dist-packages (from jsonschema>=3.0->altair<6,>=4.0->streamlit) (0.35.1)\n",
            "Requirement already satisfied: rpds-py>=0.7.1 in /usr/local/lib/python3.10/dist-packages (from jsonschema>=3.0->altair<6,>=4.0->streamlit) (0.22.3)\n",
            "Requirement already satisfied: mdurl~=0.1 in /usr/local/lib/python3.10/dist-packages (from markdown-it-py>=2.2.0->rich<14,>=10.14.0->streamlit) (0.1.2)\n",
            "Requirement already satisfied: six>=1.5 in /usr/local/lib/python3.10/dist-packages (from python-dateutil>=2.8.2->pandas<3,>=1.4.0->streamlit) (1.16.0)\n",
            "Downloading fastapi-0.115.6-py3-none-any.whl (94 kB)\n",
            "\u001b[2K   \u001b[90m━━━━━━━━━━━━━━━━━━━━━━━━━━━━━━━━━━━━━━━━\u001b[0m \u001b[32m94.8/94.8 kB\u001b[0m \u001b[31m7.7 MB/s\u001b[0m eta \u001b[36m0:00:00\u001b[0m\n",
            "\u001b[?25hDownloading uvicorn-0.32.1-py3-none-any.whl (63 kB)\n",
            "\u001b[2K   \u001b[90m━━━━━━━━━━━━━━━━━━━━━━━━━━━━━━━━━━━━━━━━\u001b[0m \u001b[32m63.8/63.8 kB\u001b[0m \u001b[31m5.9 MB/s\u001b[0m eta \u001b[36m0:00:00\u001b[0m\n",
            "\u001b[?25hDownloading pyngrok-7.2.1-py3-none-any.whl (22 kB)\n",
            "Downloading streamlit-1.40.2-py2.py3-none-any.whl (8.6 MB)\n",
            "\u001b[2K   \u001b[90m━━━━━━━━━━━━━━━━━━━━━━━━━━━━━━━━━━━━━━━━\u001b[0m \u001b[32m8.6/8.6 MB\u001b[0m \u001b[31m83.8 MB/s\u001b[0m eta \u001b[36m0:00:00\u001b[0m\n",
            "\u001b[?25hDownloading pydeck-0.9.1-py2.py3-none-any.whl (6.9 MB)\n",
            "\u001b[2K   \u001b[90m━━━━━━━━━━━━━━━━━━━━━━━━━━━━━━━━━━━━━━━━\u001b[0m \u001b[32m6.9/6.9 MB\u001b[0m \u001b[31m100.6 MB/s\u001b[0m eta \u001b[36m0:00:00\u001b[0m\n",
            "\u001b[?25hDownloading starlette-0.41.3-py3-none-any.whl (73 kB)\n",
            "\u001b[2K   \u001b[90m━━━━━━━━━━━━━━━━━━━━━━━━━━━━━━━━━━━━━━━━\u001b[0m \u001b[32m73.2/73.2 kB\u001b[0m \u001b[31m7.2 MB/s\u001b[0m eta \u001b[36m0:00:00\u001b[0m\n",
            "\u001b[?25hDownloading watchdog-6.0.0-py3-none-manylinux2014_x86_64.whl (79 kB)\n",
            "\u001b[2K   \u001b[90m━━━━━━━━━━━━━━━━━━━━━━━━━━━━━━━━━━━━━━━━\u001b[0m \u001b[32m79.1/79.1 kB\u001b[0m \u001b[31m8.3 MB/s\u001b[0m eta \u001b[36m0:00:00\u001b[0m\n",
            "\u001b[?25hInstalling collected packages: watchdog, uvicorn, pyngrok, starlette, pydeck, fastapi, streamlit\n",
            "Successfully installed fastapi-0.115.6 pydeck-0.9.1 pyngrok-7.2.1 starlette-0.41.3 streamlit-1.40.2 uvicorn-0.32.1 watchdog-6.0.0\n"
          ]
        }
      ]
    },
    {
      "cell_type": "code",
      "source": [
        "# Standard library imports\n",
        "import os\n",
        "\n",
        "# Third-party library imports\n",
        "import requests\n",
        "import streamlit as st\n",
        "from threading import Thread\n",
        "from pyngrok import ngrok\n",
        "\n",
        "# Colab-specific imports\n",
        "from google.colab import userdata"
      ],
      "metadata": {
        "id": "NHCRLgJ0yniV"
      },
      "execution_count": null,
      "outputs": []
    },
    {
      "cell_type": "markdown",
      "source": [
        "## Employee Attrition Prediction Web App with Streamlit and FastAPI\n",
        "\n",
        "This code creates an interactive **Streamlit** app that allows users to input employee details and get predictions on employee attrition (whether the employee will leave or stay). The app communicates with a **FastAPI** backend model, which performs the prediction.\n",
        "\n",
        "### Code Overview\n",
        "\n",
        "1. **FastAPI Integration**:\n",
        "   - The FastAPI model URL is read from the `fastapi_url.txt` file.\n",
        "   - The Streamlit app sends a POST request with employee details to the FastAPI endpoint for prediction.\n",
        "\n",
        "2. **User Input Fields**:\n",
        "   - **Education**: User selects the employee's education level (`Bachelors`, `Masters`, `PHD`).\n",
        "   - **Joining Year**: User enters the employee's joining year (range between 2000–2025).\n",
        "   - **City**: User selects the employee's city (`Bangalore`, `Pune`, `New Delhi`).\n",
        "   - **Payment Tier**: User selects the payment tier of the employee (`1`, `2`, `3`).\n",
        "   - **Age**: User enters the age of the employee (between 18 and 65).\n",
        "   - **Gender**: User selects the gender of the employee (`Male`, `Female`).\n",
        "   - **Ever Benched**: User selects whether the employee has ever been benched (binary: `0` for No, `1` for Yes).\n",
        "   - **Experience in Current Domain**: User enters the number of years of experience in the current domain.\n",
        "\n",
        "3. **Prediction Request**:\n",
        "   - Once the user provides the input and clicks **Predict**, the app sends the data to the FastAPI backend.\n",
        "   - The model predicts whether the employee will `Leave` or `Stay`, and the result is displayed.\n",
        "\n",
        "4. **Error Handling**:\n",
        "   - The app handles potential connection issues by displaying an error message if the API is not reachable.\n",
        "\n",
        "### Code Execution Flow\n",
        "\n",
        "1. **API URL Retrieval**:\n",
        "   The FastAPI URL is fetched from a file (`fastapi_url.txt`), which contains the prediction endpoint.\n",
        "\n",
        "2. **Streamlit UI**:\n",
        "   - Various input fields are provided for the user to enter details about the employee.\n",
        "   - The `Predict` button sends the input data to the FastAPI service via a POST request.\n",
        "\n",
        "3. **Prediction**:\n",
        "   - The FastAPI backend processes the input data and returns a prediction, which is displayed as either **Stay** or **Leave** based on the model’s output.\n",
        "   - If an error occurs during the request (e.g., connectivity issues), a user-friendly error message is shown.\n",
        "\n",
        "\n",
        "### Key Points\n",
        "- **User Input Fields**: Employee details such as Education, Age, Experience, etc., are input by the user.\n",
        "- **Prediction API**: The user input is sent to the FastAPI model, which performs the prediction.\n",
        "- **Streamlit Interface**: The results are displayed on the Streamlit web page, making it easy for users to interact and get predictions.\n",
        "\n",
        "\n",
        "\n"
      ],
      "metadata": {
        "id": "egewqdM9reuC"
      }
    },
    {
      "cell_type": "code",
      "execution_count": null,
      "metadata": {
        "id": "CqR8Ux5mwn0R",
        "colab": {
          "base_uri": "https://localhost:8080/"
        },
        "outputId": "8e326c44-8cde-42d7-ee1a-e7ed818f796d"
      },
      "outputs": [
        {
          "output_type": "stream",
          "name": "stdout",
          "text": [
            "Writing app.py\n"
          ]
        }
      ],
      "source": [
        "%%writefile app.py\n",
        "# Import necessary libraries\n",
        "import requests  # For making HTTP requests\n",
        "import streamlit as st  # For building the Streamlit web app\n",
        "\n",
        "# Load FastAPI public URL dynamically from the file\n",
        "with open(\"fastapi_url.txt\", \"r\") as f:\n",
        "    api_url = f.read().strip() + \"/predict\"\n",
        "\n",
        "# Streamlit app title and description\n",
        "st.title(\"Employee Attrition Prediction\")\n",
        "st.write(\"Use this app to predict whether an employee will leave or stay.\")\n",
        "\n",
        "# Input fields for user data\n",
        "# Education level\n",
        "education = st.selectbox(\"Education\", options=[\"Bachelors\", \"Masters\", \"PHD\"])\n",
        "\n",
        "# Joining year with a range of valid years\n",
        "joining_year = st.number_input(\n",
        "    \"Joining Year\", min_value=2000, max_value=2025, step=1, value=2015\n",
        ")\n",
        "\n",
        "# City options\n",
        "city = st.selectbox(\"City\", options=[\"Bangalore\", \"Pune\", \"New Delhi\"])\n",
        "\n",
        "# Payment tier selection\n",
        "payment_tier = st.selectbox(\"Payment Tier\", options=[1, 2, 3])\n",
        "\n",
        "# Employee age input with range validation\n",
        "age = st.number_input(\"Age\", min_value=18, max_value=65, step=1, value=30)\n",
        "\n",
        "# Gender selection\n",
        "gender = st.selectbox(\"Gender\", options=[\"Male\", \"Female\"])\n",
        "\n",
        "# Ever benched (binary: 0 for \"No\", 1 for \"Yes\")\n",
        "ever_benched = st.selectbox(\n",
        "    \"Ever Benched\", options=[0, 1], format_func=lambda x: \"No\" if x == 0 else \"Yes\"\n",
        ")\n",
        "\n",
        "# Experience in the current domain\n",
        "experience_in_current_domain = st.number_input(\n",
        "    \"Experience in Current Domain (years)\", min_value=0, max_value=80, step=1, value=5\n",
        ")\n",
        "\n",
        "# Button to trigger prediction\n",
        "if st.button(\"Predict\"):\n",
        "    # Prepare input data for the API\n",
        "    input_data = {\n",
        "        \"Education\": education,\n",
        "        \"JoiningYear\": joining_year,\n",
        "        \"City\": city,\n",
        "        \"PaymentTier\": payment_tier,\n",
        "        \"Age\": age,\n",
        "        \"Gender\": gender,\n",
        "        \"EverBenched\": ever_benched,\n",
        "        \"ExperienceInCurrentDomain\": experience_in_current_domain,\n",
        "    }\n",
        "\n",
        "    try:\n",
        "        # Send POST request to the FastAPI prediction endpoint\n",
        "        response = requests.post(api_url, json=input_data)\n",
        "        response.raise_for_status()  # Raise exception for HTTP errors\n",
        "\n",
        "        # Parse response and display prediction\n",
        "        response_data = response.json()\n",
        "        prediction = \"Stay\" if response_data[\"prediction\"] == 0 else \"Leave\"\n",
        "        st.success(f\"Prediction: {prediction}\")\n",
        "    except requests.exceptions.RequestException as e:\n",
        "        # Handle errors and display an appropriate message\n",
        "        st.error(f\"Error connecting to the prediction API: {e}\")"
      ]
    },
    {
      "cell_type": "markdown",
      "source": [
        "## Start Streamlit Server and Expose via Ngrok\n",
        "\n",
        "This code snippet runs the **Streamlit** app in a separate thread and exposes it to the internet using **Ngrok**. It enables remote access to the web interface of the Employee Attrition Prediction app, which is running on a local server.\n",
        "\n",
        "### Code Overview\n",
        "\n",
        "1. **Start Streamlit Server**:\n",
        "   - The `streamlit_thread` is a background thread that starts the Streamlit app (`app.py`) on port `8501` using the command:\n",
        "     ```bash\n",
        "     streamlit run app.py --server.port 8501\n",
        "     ```\n",
        "\n",
        "2. **Expose via Ngrok**:\n",
        "   - The **Ngrok** service is used to create a public URL for the local Streamlit app.\n",
        "   - The public URL is printed and can be shared with others to access the app remotely.\n",
        "\n",
        "\n",
        "### Code Execution Flow\n",
        "\n",
        "1. **Streamlit App**:\n",
        "   - The Streamlit app (`app.py`) is launched in a separate thread, which allows the notebook to continue executing other tasks without blocking.\n",
        "\n",
        "2. **Ngrok Tunnel**:\n",
        "   - Ngrok is used to expose the locally running Streamlit app to the internet.\n",
        "   - The URL provided by Ngrok can be shared and accessed in a browser to interact with the app.\n",
        "\n",
        "3. **Public URL**:\n",
        "   - Once the Streamlit server is running, the public URL generated by Ngrok is displayed in the output. This URL can be used to access the app from any browser.\n",
        "\n",
        "### Key Points\n",
        "- **Streamlit in Background**: The Streamlit server is started in a background thread to prevent blocking the notebook execution.\n",
        "- **Ngrok Exposure**: Ngrok creates a secure tunnel, exposing the local Streamlit app to the internet with a public URL.\n",
        "- **Accessing the App**: After running this code, the user can visit the public URL to interact with the app.\n",
        "\n"
      ],
      "metadata": {
        "id": "aWVlgc1AtVjg"
      }
    },
    {
      "cell_type": "code",
      "source": [
        "# Start the Streamlit server in a separate thread\n",
        "streamlit_thread = Thread(\n",
        "    target=lambda: os.system(\"streamlit run app.py --server.port 8501\"), daemon=True\n",
        ")\n",
        "streamlit_thread.start()\n",
        "auth_token = userdata.get(\"Ngrok\")\n",
        "ngrok.set_auth_token(auth_token)\n",
        "# Expose the Streamlit app through ngrok\n",
        "# Ensure fastapi_url.txt file exists in the Colab environment- Get it from Notebook-2\n",
        "streamlit_url = ngrok.connect(8501)\n",
        "print(f\"Streamlit public URL: {streamlit_url}\")"
      ],
      "metadata": {
        "id": "UKGIm1iWyjLz",
        "colab": {
          "base_uri": "https://localhost:8080/"
        },
        "outputId": "da8489ba-c86f-4e30-c1fb-0e3d5ac8af5d"
      },
      "execution_count": null,
      "outputs": [
        {
          "output_type": "stream",
          "name": "stdout",
          "text": [
            "Streamlit public URL: NgrokTunnel: \"https://7629-34-16-134-239.ngrok-free.app\" -> \"http://localhost:8501\"\n"
          ]
        }
      ]
    }
  ]
}